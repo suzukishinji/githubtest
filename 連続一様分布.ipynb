{
 "cells": [
  {
   "cell_type": "code",
   "execution_count": 1,
   "metadata": {},
   "outputs": [
    {
     "name": "stdout",
     "output_type": "stream",
     "text": [
      "確率密度関数は、0.125\n"
     ]
    }
   ],
   "source": [
    "\n",
    "a = 19\n",
    "\n",
    "\n",
    "b = 27\n",
    "#確率密度関数\n",
    "fx = 1.0/(b-a)\n",
    "\n",
    "print('確率密度関数は、{}'.format(fx))"
   ]
  },
  {
   "cell_type": "code",
   "execution_count": 2,
   "metadata": {},
   "outputs": [
    {
     "name": "stdout",
     "output_type": "stream",
     "text": [
      "分散=5.333333333333333\n"
     ]
    }
   ],
   "source": [
    "#分散\n",
    "var = ((b-a)**2 )/12\n",
    "\n",
    "print('分散={}'.format(var))"
   ]
  },
  {
   "cell_type": "code",
   "execution_count": 3,
   "metadata": {},
   "outputs": [
    {
     "name": "stdout",
     "output_type": "stream",
     "text": [
      "乗車時間が少なくとも25分かかる確率は25.0%\n"
     ]
    }
   ],
   "source": [
    "#確率\n",
    "f25 = (25-19)/(b-a)\n",
    "\n",
    "ans = 1-f25\n",
    "\n",
    "print('乗車時間が少なくとも25分かかる確率は{}%'.format(100*ans))"
   ]
  },
  {
   "cell_type": "code",
   "execution_count": 4,
   "metadata": {},
   "outputs": [],
   "source": [
    "from scipy.stats import uniform\n",
    "import numpy as np\n",
    "import matplotlib.pyplot as plt\n",
    "%matplotlib inline"
   ]
  },
  {
   "cell_type": "code",
   "execution_count": 5,
   "metadata": {},
   "outputs": [
    {
     "data": {
      "text/plain": [
       "[<matplotlib.lines.Line2D at 0x1a18fee518>]"
      ]
     },
     "execution_count": 5,
     "metadata": {},
     "output_type": "execute_result"
    },
    {
     "data": {
      "image/png": "[encoded data removed]",
      "text/plain": [
       "<Figure size 432x288 with 1 Axes>"
      ]
     },
     "metadata": {
      "needs_background": "light"
     },
     "output_type": "display_data"
    }
   ],
   "source": [
    "# 最小と最大\n",
    "A=0\n",
    "B=5\n",
    "x = np.linspace(A,B,100)\n",
    "\n",
    "# 連続一様分布のuniform(loc=start point,scale=endpoint)\n",
    "rv = uniform(loc=A,scale=B)\n",
    "\n",
    "# 確率密度関数（PDF）と累積分布関数（Cumulative Distribution Function)\n",
    "plt.plot(x,rv.pdf(x))\n",
    "plt.plot(x,rv.cdf(x))"
   ]
  },
  {
   "cell_type": "code",
   "execution_count": null,
   "metadata": {},
   "outputs": [],
   "source": []
  }
 ],
 "metadata": {
  "kernelspec": {
   "display_name": "Python 3",
   "language": "python",
   "name": "python3"
  },
  "language_info": {
   "codemirror_mode": {
    "name": "ipython",
    "version": 3
   },
   "file_extension": ".py",
   "mimetype": "text/x-python",
   "name": "python",
   "nbconvert_exporter": "python",
   "pygments_lexer": "ipython3",
   "version": "3.7.0"
  }
 },
 "nbformat": 4,
 "nbformat_minor": 2
}
